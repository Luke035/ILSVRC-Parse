{
 "cells": [
  {
   "cell_type": "code",
   "execution_count": 24,
   "metadata": {
    "collapsed": true
   },
   "outputs": [],
   "source": [
    "#Import libraries\n",
    "import pandas as pd\n",
    "from xml.dom import minidom\n",
    "import os\n",
    "import sys"
   ]
  },
  {
   "cell_type": "code",
   "execution_count": 23,
   "metadata": {
    "collapsed": true
   },
   "outputs": [],
   "source": [
    "#Global variables\n",
    "ILSVRC_ROOT_PATH = '/var/ifs/data/ILSVRC'\n",
    "ANNOTATIONS_PATH = ILSVRC_ROOT_PATH + '/Annotations/CLS-LOC'\n",
    "ANNOTATIONS_TRAIN_PATH = ANNOTATIONS_PATH + '/train'\n",
    "ANNOTATIONS_VAL_PATH = ANNOTATIONS_PATH + '/val'\n",
    "IMAGES_PATH = ILSVRC_ROOT_PATH + '/Data/CLS-LOC'\n",
    "IMAGES_TRAIN_PATH = IMAGES_PATH + '/train'"
   ]
  },
  {
   "cell_type": "code",
   "execution_count": 61,
   "metadata": {},
   "outputs": [
    {
     "name": "stdout",
     "output_type": "stream",
     "text": [
      "Processed folders: 1000 Processed images 494Process completed\n",
      "Overall images 544546, removed 0 images\n"
     ]
    }
   ],
   "source": [
    "#Parsing Training Annotations\n",
    "'''\n",
    "Esempio struttura\n",
    "Annotations/CLS-LOC/train\n",
    "   n02787622 (root_id_dir)\n",
    "      n02787622_1.xml\n",
    "      n02787622_2.xml\n",
    "      . . .\n",
    "\n",
    "/Data/CLS-LOC/train\n",
    "   n02787622\n",
    "      n02787622_1.jpg\n",
    "      n02787622_2.jpg\n",
    "'''\n",
    "def extract_image_channels(xml_path):\n",
    "    #Check if annotated depth is 3\n",
    "    xml_obj = minidom.parse(xml_path)\n",
    "    depth_element = xml_obj.getElementsByTagName('depth')\n",
    "    depth_str = depth_element[0].firstChild.data\n",
    "    try:\n",
    "        return int(depth_str)\n",
    "    except:\n",
    "        return 0\n",
    "\n",
    "def extract_image_dims(xml_path):\n",
    "    xml_obj = minidom.parse(xml_path)\n",
    "    width_element = xml_obj.getElementsByTagName('width')\n",
    "    height_element = xml_obj.getElementsByTagName('height')\n",
    "    \n",
    "    try:\n",
    "        im_width = int(width_element[0].firstChild.data)\n",
    "        im_height = int(height_element[0].firstChild.data)\n",
    "        return  im_width * im_height\n",
    "    except:\n",
    "        return 0\n",
    "\n",
    "pandas_df_list = []\n",
    "removed_images = 0\n",
    "for idx, root_id_dir in enumerate(os.listdir(ANNOTATIONS_TRAIN_PATH)):\n",
    "    current_dir_path = ANNOTATIONS_TRAIN_PATH + '/' + root_id_dir\n",
    "    for img_idx, img_xml in enumerate(os.listdir(current_dir_path)):\n",
    "        #Parse XML\n",
    "        full_xml_path = current_dir_path + '/' + img_xml\n",
    "        #Check if image is depth 3\n",
    "        im_depth = extract_image_channels(full_xml_path)\n",
    "        if im_depth == 3:\n",
    "            #Image OK\n",
    "            current_image_path = '/ILSVRC/Data/CLS-LOC/train/' + root_id_dir + '/' + img_xml.split('.')[0] + '.JPEG'\n",
    "            current_label = root_id_dir\n",
    "            pandas_df_list.append((current_image_path, current_label, extract_image_dims(full_xml_path)))\n",
    "        else:\n",
    "            #Ignore image\n",
    "            removed_images += 1\n",
    "        if (img_idx * (idx + 1)) % 20 == 0:\n",
    "            sys.stdout.write(\"\\rProcessed folders: {0} Processed images {1}\".format(idx+1, img_idx+1))\n",
    "            sys.stdout.flush()\n",
    "\n",
    "print(\"Process completed\")\n",
    "print(\"Overall images {0}, removed {1} images\".format(len(pandas_df_list), removed_images))"
   ]
  },
  {
   "cell_type": "code",
   "execution_count": 62,
   "metadata": {},
   "outputs": [
    {
     "data": {
      "text/plain": [
       "544546"
      ]
     },
     "execution_count": 62,
     "metadata": {},
     "output_type": "execute_result"
    }
   ],
   "source": [
    "images_df = pd.DataFrame(pandas_df_list, columns=['path','label', 'im_dim'])\n",
    "len(images_df)"
   ]
  },
  {
   "cell_type": "code",
   "execution_count": 63,
   "metadata": {},
   "outputs": [
    {
     "data": {
      "text/html": [
       "<div>\n",
       "<table border=\"1\" class=\"dataframe\">\n",
       "  <thead>\n",
       "    <tr style=\"text-align: right;\">\n",
       "      <th></th>\n",
       "      <th>path</th>\n",
       "      <th>label</th>\n",
       "      <th>im_dim</th>\n",
       "    </tr>\n",
       "  </thead>\n",
       "  <tbody>\n",
       "    <tr>\n",
       "      <th>0</th>\n",
       "      <td>/ILSVRC/Data/CLS-LOC/train/n02823750/n02823750...</td>\n",
       "      <td>n02823750</td>\n",
       "      <td>166500</td>\n",
       "    </tr>\n",
       "    <tr>\n",
       "      <th>1</th>\n",
       "      <td>/ILSVRC/Data/CLS-LOC/train/n02823750/n02823750...</td>\n",
       "      <td>n02823750</td>\n",
       "      <td>167000</td>\n",
       "    </tr>\n",
       "    <tr>\n",
       "      <th>2</th>\n",
       "      <td>/ILSVRC/Data/CLS-LOC/train/n02823750/n02823750...</td>\n",
       "      <td>n02823750</td>\n",
       "      <td>187500</td>\n",
       "    </tr>\n",
       "    <tr>\n",
       "      <th>3</th>\n",
       "      <td>/ILSVRC/Data/CLS-LOC/train/n02823750/n02823750...</td>\n",
       "      <td>n02823750</td>\n",
       "      <td>187500</td>\n",
       "    </tr>\n",
       "    <tr>\n",
       "      <th>4</th>\n",
       "      <td>/ILSVRC/Data/CLS-LOC/train/n02823750/n02823750...</td>\n",
       "      <td>n02823750</td>\n",
       "      <td>166500</td>\n",
       "    </tr>\n",
       "  </tbody>\n",
       "</table>\n",
       "</div>"
      ],
      "text/plain": [
       "                                                path      label  im_dim\n",
       "0  /ILSVRC/Data/CLS-LOC/train/n02823750/n02823750...  n02823750  166500\n",
       "1  /ILSVRC/Data/CLS-LOC/train/n02823750/n02823750...  n02823750  167000\n",
       "2  /ILSVRC/Data/CLS-LOC/train/n02823750/n02823750...  n02823750  187500\n",
       "3  /ILSVRC/Data/CLS-LOC/train/n02823750/n02823750...  n02823750  187500\n",
       "4  /ILSVRC/Data/CLS-LOC/train/n02823750/n02823750...  n02823750  166500"
      ]
     },
     "execution_count": 63,
     "metadata": {},
     "output_type": "execute_result"
    }
   ],
   "source": [
    "images_df.head(5)"
   ]
  },
  {
   "cell_type": "code",
   "execution_count": 64,
   "metadata": {},
   "outputs": [],
   "source": [
    "images_df.to_csv(path_or_buf='images_df.csv', sep=';', header=True, index=False)"
   ]
  }
 ],
 "metadata": {
  "kernelspec": {
   "display_name": "DeepEnv",
   "language": "python",
   "name": "deepenv"
  },
  "language_info": {
   "codemirror_mode": {
    "name": "ipython",
    "version": 3
   },
   "file_extension": ".py",
   "mimetype": "text/x-python",
   "name": "python",
   "nbconvert_exporter": "python",
   "pygments_lexer": "ipython3",
   "version": "3.5.2"
  }
 },
 "nbformat": 4,
 "nbformat_minor": 2
}
