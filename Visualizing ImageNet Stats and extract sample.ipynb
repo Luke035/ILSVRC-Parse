{
 "cells": [
  {
   "cell_type": "code",
   "execution_count": 1,
   "metadata": {},
   "outputs": [],
   "source": [
    "#Import libraries\n",
    "import pandas as pd\n",
    "from xml.dom import minidom\n",
    "import os\n",
    "import sys\n",
    "import numpy as np\n",
    "import matplotlib\n",
    "import random\n",
    "import shutil\n",
    "\n",
    "%matplotlib inline"
   ]
  },
  {
   "cell_type": "code",
   "execution_count": 2,
   "metadata": {
    "collapsed": true
   },
   "outputs": [],
   "source": [
    "#Set stile per plotting\n",
    "#matplotlib.style.available per lista stili\n",
    "matplotlib.style.use('seaborn')"
   ]
  },
  {
   "cell_type": "code",
   "execution_count": 3,
   "metadata": {
    "collapsed": true
   },
   "outputs": [],
   "source": [
    "#Global variables\n",
    "ILSVRC_ROOT_PATH = '/var/ifs/data'\n",
    "ANNOTATIONS_PATH = ILSVRC_ROOT_PATH + '/Annotations/CLS-LOC'\n",
    "ANNOTATIONS_TRAIN_PATH = ANNOTATIONS_PATH + '/train'\n",
    "ANNOTATIONS_VAL_PATH = ANNOTATIONS_PATH + '/val'\n",
    "IMAGES_PATH = ILSVRC_ROOT_PATH + '/Data/CLS-LOC'\n",
    "IMAGES_TRAIN_PATH = IMAGES_PATH + '/train'\n",
    "TARGET_DIR = 'SMALL_ILSVRC'\n",
    "DESIRED_SAMPLES = 10"
   ]
  },
  {
   "cell_type": "markdown",
   "metadata": {},
   "source": [
    "### Retrieve images_df file"
   ]
  },
  {
   "cell_type": "code",
   "execution_count": 4,
   "metadata": {},
   "outputs": [
    {
     "data": {
      "text/html": [
       "<div>\n",
       "<table border=\"1\" class=\"dataframe\">\n",
       "  <thead>\n",
       "    <tr style=\"text-align: right;\">\n",
       "      <th></th>\n",
       "      <th>path</th>\n",
       "      <th>label</th>\n",
       "      <th>im_dim</th>\n",
       "    </tr>\n",
       "  </thead>\n",
       "  <tbody>\n",
       "    <tr>\n",
       "      <th>0</th>\n",
       "      <td>/ILSVRC/Data/CLS-LOC/train/n02823750/n02823750...</td>\n",
       "      <td>n02823750</td>\n",
       "      <td>166500</td>\n",
       "    </tr>\n",
       "    <tr>\n",
       "      <th>1</th>\n",
       "      <td>/ILSVRC/Data/CLS-LOC/train/n02823750/n02823750...</td>\n",
       "      <td>n02823750</td>\n",
       "      <td>167000</td>\n",
       "    </tr>\n",
       "    <tr>\n",
       "      <th>2</th>\n",
       "      <td>/ILSVRC/Data/CLS-LOC/train/n02823750/n02823750...</td>\n",
       "      <td>n02823750</td>\n",
       "      <td>187500</td>\n",
       "    </tr>\n",
       "    <tr>\n",
       "      <th>3</th>\n",
       "      <td>/ILSVRC/Data/CLS-LOC/train/n02823750/n02823750...</td>\n",
       "      <td>n02823750</td>\n",
       "      <td>187500</td>\n",
       "    </tr>\n",
       "    <tr>\n",
       "      <th>4</th>\n",
       "      <td>/ILSVRC/Data/CLS-LOC/train/n02823750/n02823750...</td>\n",
       "      <td>n02823750</td>\n",
       "      <td>166500</td>\n",
       "    </tr>\n",
       "    <tr>\n",
       "      <th>5</th>\n",
       "      <td>/ILSVRC/Data/CLS-LOC/train/n02823750/n02823750...</td>\n",
       "      <td>n02823750</td>\n",
       "      <td>187500</td>\n",
       "    </tr>\n",
       "    <tr>\n",
       "      <th>6</th>\n",
       "      <td>/ILSVRC/Data/CLS-LOC/train/n02823750/n02823750...</td>\n",
       "      <td>n02823750</td>\n",
       "      <td>187500</td>\n",
       "    </tr>\n",
       "    <tr>\n",
       "      <th>7</th>\n",
       "      <td>/ILSVRC/Data/CLS-LOC/train/n02823750/n02823750...</td>\n",
       "      <td>n02823750</td>\n",
       "      <td>174000</td>\n",
       "    </tr>\n",
       "    <tr>\n",
       "      <th>8</th>\n",
       "      <td>/ILSVRC/Data/CLS-LOC/train/n02823750/n02823750...</td>\n",
       "      <td>n02823750</td>\n",
       "      <td>187500</td>\n",
       "    </tr>\n",
       "    <tr>\n",
       "      <th>9</th>\n",
       "      <td>/ILSVRC/Data/CLS-LOC/train/n02823750/n02823750...</td>\n",
       "      <td>n02823750</td>\n",
       "      <td>187500</td>\n",
       "    </tr>\n",
       "  </tbody>\n",
       "</table>\n",
       "</div>"
      ],
      "text/plain": [
       "                                                path      label  im_dim\n",
       "0  /ILSVRC/Data/CLS-LOC/train/n02823750/n02823750...  n02823750  166500\n",
       "1  /ILSVRC/Data/CLS-LOC/train/n02823750/n02823750...  n02823750  167000\n",
       "2  /ILSVRC/Data/CLS-LOC/train/n02823750/n02823750...  n02823750  187500\n",
       "3  /ILSVRC/Data/CLS-LOC/train/n02823750/n02823750...  n02823750  187500\n",
       "4  /ILSVRC/Data/CLS-LOC/train/n02823750/n02823750...  n02823750  166500\n",
       "5  /ILSVRC/Data/CLS-LOC/train/n02823750/n02823750...  n02823750  187500\n",
       "6  /ILSVRC/Data/CLS-LOC/train/n02823750/n02823750...  n02823750  187500\n",
       "7  /ILSVRC/Data/CLS-LOC/train/n02823750/n02823750...  n02823750  174000\n",
       "8  /ILSVRC/Data/CLS-LOC/train/n02823750/n02823750...  n02823750  187500\n",
       "9  /ILSVRC/Data/CLS-LOC/train/n02823750/n02823750...  n02823750  187500"
      ]
     },
     "execution_count": 4,
     "metadata": {},
     "output_type": "execute_result"
    }
   ],
   "source": [
    "images_df = pd.read_csv('images_df.csv', sep=';', header=0)\n",
    "images_df.head(10)"
   ]
  },
  {
   "cell_type": "code",
   "execution_count": 5,
   "metadata": {},
   "outputs": [
    {
     "name": "stderr",
     "output_type": "stream",
     "text": [
      "/opt/continuum/anaconda3/envs/jupyter/lib/python3.5/site-packages/ipykernel/__main__.py:6: FutureWarning: sort(columns=....) is deprecated, use sort_values(by=.....)\n"
     ]
    },
    {
     "data": {
      "text/html": [
       "<div>\n",
       "<table border=\"1\" class=\"dataframe\">\n",
       "  <thead>\n",
       "    <tr style=\"text-align: right;\">\n",
       "      <th></th>\n",
       "      <th>label</th>\n",
       "      <th>count</th>\n",
       "    </tr>\n",
       "  </thead>\n",
       "  <tbody>\n",
       "    <tr>\n",
       "      <th>242</th>\n",
       "      <td>n02108089</td>\n",
       "      <td>1300</td>\n",
       "    </tr>\n",
       "    <tr>\n",
       "      <th>978</th>\n",
       "      <td>n09428293</td>\n",
       "      <td>1268</td>\n",
       "    </tr>\n",
       "    <tr>\n",
       "      <th>267</th>\n",
       "      <td>n02113799</td>\n",
       "      <td>1248</td>\n",
       "    </tr>\n",
       "    <tr>\n",
       "      <th>827</th>\n",
       "      <td>n04330267</td>\n",
       "      <td>1196</td>\n",
       "    </tr>\n",
       "    <tr>\n",
       "      <th>867</th>\n",
       "      <td>n04467665</td>\n",
       "      <td>1192</td>\n",
       "    </tr>\n",
       "  </tbody>\n",
       "</table>\n",
       "</div>"
      ],
      "text/plain": [
       "         label  count\n",
       "242  n02108089   1300\n",
       "978  n09428293   1268\n",
       "267  n02113799   1248\n",
       "827  n04330267   1196\n",
       "867  n04467665   1192"
      ]
     },
     "execution_count": 5,
     "metadata": {},
     "output_type": "execute_result"
    }
   ],
   "source": [
    "#Group by label for counting how many images for label\n",
    "label_count_df = images_df[['path','label']].groupby(['label'],as_index=False).agg(['count'])\n",
    "#Flatten indexes (group by generate nested indexes)\n",
    "label_count_df = label_count_df.reset_index()\n",
    "label_count_df.columns = ['label', 'count']\n",
    "label_count_df = label_count_df.sort(['count'], ascending=False)\n",
    "label_count_df.head(5)"
   ]
  },
  {
   "cell_type": "markdown",
   "metadata": {},
   "source": [
    "### Visualizing Distribution"
   ]
  },
  {
   "cell_type": "code",
   "execution_count": 6,
   "metadata": {},
   "outputs": [
    {
     "data": {
      "text/plain": [
       "<matplotlib.axes._subplots.AxesSubplot at 0x7f12ca3b9320>"
      ]
     },
     "execution_count": 6,
     "metadata": {},
     "output_type": "execute_result"
    },
    {
     "data": {
      "image/png": "[encoded data removed]",
      "text/plain": [
       "<matplotlib.figure.Figure at 0x7f12f762ba58>"
      ]
     },
     "metadata": {},
     "output_type": "display_data"
    }
   ],
   "source": [
    "label_count_df.plot(x='label', y='count', title='Test', kind='line')"
   ]
  },
  {
   "cell_type": "code",
   "execution_count": 7,
   "metadata": {},
   "outputs": [
    {
     "data": {
      "text/plain": [
       "<matplotlib.axes._subplots.AxesSubplot at 0x7f12c708d240>"
      ]
     },
     "execution_count": 7,
     "metadata": {},
     "output_type": "execute_result"
    },
    {
     "data": {
      "image/png": "[encoded data removed]",
      "text/plain": [
       "<matplotlib.figure.Figure at 0x7f12c8618a20>"
      ]
     },
     "metadata": {},
     "output_type": "display_data"
    }
   ],
   "source": [
    "label_count_df.plot.box()"
   ]
  },
  {
   "cell_type": "code",
   "execution_count": 8,
   "metadata": {},
   "outputs": [
    {
     "data": {
      "image/png": "[encoded data removed]",
      "text/plain": [
       "<matplotlib.figure.Figure at 0x7f12fc8a1128>"
      ]
     },
     "execution_count": 8,
     "metadata": {},
     "output_type": "execute_result"
    },
    {
     "data": {
      "image/png": "[encoded data removed]",
      "text/plain": [
       "<matplotlib.figure.Figure at 0x7f12fc8a1128>"
      ]
     },
     "metadata": {},
     "output_type": "display_data"
    }
   ],
   "source": [
    "from pandas.tools.plotting import bootstrap_plot\n",
    "bootstrap_plot(label_count_df['count'], size=100, samples=2000)"
   ]
  },
  {
   "cell_type": "code",
   "execution_count": 9,
   "metadata": {},
   "outputs": [
    {
     "name": "stdout",
     "output_type": "stream",
     "text": [
      "Mean: 544.546\n",
      "STD Dev 113.15942684549087\n",
      "Median 525.0\n"
     ]
    }
   ],
   "source": [
    "count_array = np.array(label_count_df['count'])\n",
    "count_mean = count_array.mean()\n",
    "count_std = count_array.std()\n",
    "count_median = np.median(count_array)\n",
    "print(\"Mean: {0}\".format(count_mean))\n",
    "print(\"STD Dev {0}\".format(count_std))\n",
    "print(\"Median {0}\".format(count_median))"
   ]
  },
  {
   "cell_type": "markdown",
   "metadata": {},
   "source": [
    "### Extract labels\n",
    "* Seleziona gruppo di classi che si discostano non più di x dalla media\n",
    "* Estrazione randomica di n classi\n",
    "* Creazione archivio di esempio"
   ]
  },
  {
   "cell_type": "code",
   "execution_count": 10,
   "metadata": {
    "collapsed": true
   },
   "outputs": [],
   "source": [
    "min_allowed_count, max_allowed_count = count_median - count_std, count_median + count_std"
   ]
  },
  {
   "cell_type": "markdown",
   "metadata": {},
   "source": [
    "One sigma è un DF che contiene solo i label entro $1 * \\sigma$ dalla mediana \n",
    "$(\\mu - 1* \\sigma) <= x <= (\\mu + 1 * \\sigma)$"
   ]
  },
  {
   "cell_type": "code",
   "execution_count": 11,
   "metadata": {},
   "outputs": [
    {
     "data": {
      "text/html": [
       "<div>\n",
       "<table border=\"1\" class=\"dataframe\">\n",
       "  <thead>\n",
       "    <tr style=\"text-align: right;\">\n",
       "      <th></th>\n",
       "      <th>label</th>\n",
       "      <th>count</th>\n",
       "    </tr>\n",
       "  </thead>\n",
       "  <tbody>\n",
       "    <tr>\n",
       "      <th>114</th>\n",
       "      <td>n01945685</td>\n",
       "      <td>638</td>\n",
       "    </tr>\n",
       "    <tr>\n",
       "      <th>947</th>\n",
       "      <td>n07734744</td>\n",
       "      <td>636</td>\n",
       "    </tr>\n",
       "    <tr>\n",
       "      <th>177</th>\n",
       "      <td>n02092002</td>\n",
       "      <td>636</td>\n",
       "    </tr>\n",
       "    <tr>\n",
       "      <th>542</th>\n",
       "      <td>n03250847</td>\n",
       "      <td>635</td>\n",
       "    </tr>\n",
       "    <tr>\n",
       "      <th>856</th>\n",
       "      <td>n04428191</td>\n",
       "      <td>634</td>\n",
       "    </tr>\n",
       "    <tr>\n",
       "      <th>888</th>\n",
       "      <td>n04532670</td>\n",
       "      <td>633</td>\n",
       "    </tr>\n",
       "    <tr>\n",
       "      <th>424</th>\n",
       "      <td>n02791270</td>\n",
       "      <td>633</td>\n",
       "    </tr>\n",
       "    <tr>\n",
       "      <th>329</th>\n",
       "      <td>n02321529</td>\n",
       "      <td>632</td>\n",
       "    </tr>\n",
       "    <tr>\n",
       "      <th>218</th>\n",
       "      <td>n02102177</td>\n",
       "      <td>632</td>\n",
       "    </tr>\n",
       "    <tr>\n",
       "      <th>655</th>\n",
       "      <td>n03770439</td>\n",
       "      <td>632</td>\n",
       "    </tr>\n",
       "  </tbody>\n",
       "</table>\n",
       "</div>"
      ],
      "text/plain": [
       "         label  count\n",
       "114  n01945685    638\n",
       "947  n07734744    636\n",
       "177  n02092002    636\n",
       "542  n03250847    635\n",
       "856  n04428191    634\n",
       "888  n04532670    633\n",
       "424  n02791270    633\n",
       "329  n02321529    632\n",
       "218  n02102177    632\n",
       "655  n03770439    632"
      ]
     },
     "execution_count": 11,
     "metadata": {},
     "output_type": "execute_result"
    }
   ],
   "source": [
    "one_sigma_count = label_count_df[\n",
    "    (label_count_df['count'] >= min_allowed_count) & \n",
    "    (label_count_df['count'] <= max_allowed_count)\n",
    "]\n",
    "one_sigma_count[:10]"
   ]
  },
  {
   "cell_type": "code",
   "execution_count": 12,
   "metadata": {},
   "outputs": [],
   "source": [
    "#Conversione a sigma\n",
    "one_sigma_list = list(one_sigma_count['label'])"
   ]
  },
  {
   "cell_type": "code",
   "execution_count": 13,
   "metadata": {},
   "outputs": [
    {
     "data": {
      "text/plain": [
       "['n01689811',\n",
       " 'n01776313',\n",
       " 'n03063599',\n",
       " 'n04235860',\n",
       " 'n07716358',\n",
       " 'n02086240',\n",
       " 'n02823428',\n",
       " 'n03347037',\n",
       " 'n02096051',\n",
       " 'n03742115']"
      ]
     },
     "execution_count": 13,
     "metadata": {},
     "output_type": "execute_result"
    }
   ],
   "source": [
    "#Extract a random sample of possible indices\n",
    "extracted_indices= random.sample(range(len(one_sigma_list)), DESIRED_SAMPLES)\n",
    "extracted_folders = [one_sigma_list[idx] for idx in extracted_indices]\n",
    "extracted_folders"
   ]
  },
  {
   "cell_type": "code",
   "execution_count": 14,
   "metadata": {},
   "outputs": [
    {
     "data": {
      "text/html": [
       "<div>\n",
       "<table border=\"1\" class=\"dataframe\">\n",
       "  <thead>\n",
       "    <tr style=\"text-align: right;\">\n",
       "      <th></th>\n",
       "      <th>path</th>\n",
       "      <th>label</th>\n",
       "      <th>im_dim</th>\n",
       "    </tr>\n",
       "  </thead>\n",
       "  <tbody>\n",
       "    <tr>\n",
       "      <th>7003</th>\n",
       "      <td>/ILSVRC/Data/CLS-LOC/train/n01689811/n01689811...</td>\n",
       "      <td>n01689811</td>\n",
       "      <td>187500</td>\n",
       "    </tr>\n",
       "    <tr>\n",
       "      <th>7004</th>\n",
       "      <td>/ILSVRC/Data/CLS-LOC/train/n01689811/n01689811...</td>\n",
       "      <td>n01689811</td>\n",
       "      <td>166000</td>\n",
       "    </tr>\n",
       "    <tr>\n",
       "      <th>7005</th>\n",
       "      <td>/ILSVRC/Data/CLS-LOC/train/n01689811/n01689811...</td>\n",
       "      <td>n01689811</td>\n",
       "      <td>175000</td>\n",
       "    </tr>\n",
       "    <tr>\n",
       "      <th>7006</th>\n",
       "      <td>/ILSVRC/Data/CLS-LOC/train/n01689811/n01689811...</td>\n",
       "      <td>n01689811</td>\n",
       "      <td>179000</td>\n",
       "    </tr>\n",
       "    <tr>\n",
       "      <th>7007</th>\n",
       "      <td>/ILSVRC/Data/CLS-LOC/train/n01689811/n01689811...</td>\n",
       "      <td>n01689811</td>\n",
       "      <td>187500</td>\n",
       "    </tr>\n",
       "    <tr>\n",
       "      <th>7008</th>\n",
       "      <td>/ILSVRC/Data/CLS-LOC/train/n01689811/n01689811...</td>\n",
       "      <td>n01689811</td>\n",
       "      <td>187500</td>\n",
       "    </tr>\n",
       "    <tr>\n",
       "      <th>7009</th>\n",
       "      <td>/ILSVRC/Data/CLS-LOC/train/n01689811/n01689811...</td>\n",
       "      <td>n01689811</td>\n",
       "      <td>230000</td>\n",
       "    </tr>\n",
       "    <tr>\n",
       "      <th>7010</th>\n",
       "      <td>/ILSVRC/Data/CLS-LOC/train/n01689811/n01689811...</td>\n",
       "      <td>n01689811</td>\n",
       "      <td>187500</td>\n",
       "    </tr>\n",
       "    <tr>\n",
       "      <th>7011</th>\n",
       "      <td>/ILSVRC/Data/CLS-LOC/train/n01689811/n01689811...</td>\n",
       "      <td>n01689811</td>\n",
       "      <td>229000</td>\n",
       "    </tr>\n",
       "    <tr>\n",
       "      <th>7012</th>\n",
       "      <td>/ILSVRC/Data/CLS-LOC/train/n01689811/n01689811...</td>\n",
       "      <td>n01689811</td>\n",
       "      <td>187500</td>\n",
       "    </tr>\n",
       "  </tbody>\n",
       "</table>\n",
       "</div>"
      ],
      "text/plain": [
       "                                                   path      label  im_dim\n",
       "7003  /ILSVRC/Data/CLS-LOC/train/n01689811/n01689811...  n01689811  187500\n",
       "7004  /ILSVRC/Data/CLS-LOC/train/n01689811/n01689811...  n01689811  166000\n",
       "7005  /ILSVRC/Data/CLS-LOC/train/n01689811/n01689811...  n01689811  175000\n",
       "7006  /ILSVRC/Data/CLS-LOC/train/n01689811/n01689811...  n01689811  179000\n",
       "7007  /ILSVRC/Data/CLS-LOC/train/n01689811/n01689811...  n01689811  187500\n",
       "7008  /ILSVRC/Data/CLS-LOC/train/n01689811/n01689811...  n01689811  187500\n",
       "7009  /ILSVRC/Data/CLS-LOC/train/n01689811/n01689811...  n01689811  230000\n",
       "7010  /ILSVRC/Data/CLS-LOC/train/n01689811/n01689811...  n01689811  187500\n",
       "7011  /ILSVRC/Data/CLS-LOC/train/n01689811/n01689811...  n01689811  229000\n",
       "7012  /ILSVRC/Data/CLS-LOC/train/n01689811/n01689811...  n01689811  187500"
      ]
     },
     "execution_count": 14,
     "metadata": {},
     "output_type": "execute_result"
    }
   ],
   "source": [
    "#Dataframe che contiene le soli immagini selezionate\n",
    "to_extract_images = images_df[images_df['label'].isin(extracted_folders)]\n",
    "len(to_extract_images)\n",
    "to_extract_images.head(10)"
   ]
  },
  {
   "cell_type": "code",
   "execution_count": 19,
   "metadata": {},
   "outputs": [
    {
     "name": "stdout",
     "output_type": "stream",
     "text": [
      "Directory created\n"
     ]
    }
   ],
   "source": [
    "#Creazione directory target\n",
    "try:\n",
    "    os.makedirs(TARGET_DIR)\n",
    "    print(\"Directory created\")\n",
    "except FileExistsError:\n",
    "    print('Directory already exists')"
   ]
  },
  {
   "cell_type": "code",
   "execution_count": 20,
   "metadata": {},
   "outputs": [
    {
     "name": "stdout",
     "output_type": "stream",
     "text": [
      "Directory created SMALL_ILSVRC/Data/CLS-LOC/train/n01689811 \n",
      "Processed Images 484Directory created SMALL_ILSVRC/Data/CLS-LOC/train/n01776313 \n",
      "Processed Images 1052Directory created SMALL_ILSVRC/Data/CLS-LOC/train/n03063599 \n",
      "Processed Images 1539Directory created SMALL_ILSVRC/Data/CLS-LOC/train/n04235860 \n",
      "Processed Images 2025Directory created SMALL_ILSVRC/Data/CLS-LOC/train/n07716358 \n",
      "Processed Images 2542Directory created SMALL_ILSVRC/Data/CLS-LOC/train/n02086240 \n",
      "Processed Images 3129Directory created SMALL_ILSVRC/Data/CLS-LOC/train/n02823428 \n",
      "Processed Images 3732Directory created SMALL_ILSVRC/Data/CLS-LOC/train/n03347037 \n",
      "Processed Images 4227Directory created SMALL_ILSVRC/Data/CLS-LOC/train/n02096051 \n",
      "Processed Images 4758Directory created SMALL_ILSVRC/Data/CLS-LOC/train/n03742115 \n",
      "Processed Images 5246"
     ]
    }
   ],
   "source": [
    "def create_folder(path):\n",
    "    try:\n",
    "        os.makedirs(path)\n",
    "        print(\"Directory created {0} \".format(path))\n",
    "    except FileExistsError:\n",
    "        print('Directory already exists')\n",
    "        \n",
    "processed_images = 0\n",
    "#Processamento cartelle (label) estratte\n",
    "for folder in extracted_folders:\n",
    "    folder_target_path = TARGET_DIR + '/Data/CLS-LOC/train/' + folder\n",
    "    create_folder(folder_target_path)\n",
    "    #Si copiano le immagini indicate in to_extract_images (label per label)\n",
    "    for idx,value in to_extract_images[to_extract_images['label'] == folder].iterrows():\n",
    "        shutil.copy(ILSVRC_ROOT_PATH + value['path'], folder_target_path + '/' + value['path'].split('/')[-1])\n",
    "        processed_images += 1\n",
    "        sys.stdout.write('\\rProcessed Images {0}'.format(processed_images))\n",
    "        sys.stdout.flush()"
   ]
  },
  {
   "cell_type": "code",
   "execution_count": 21,
   "metadata": {
    "collapsed": true
   },
   "outputs": [],
   "source": [
    "#Saòvataggio dataframe nella target dir\n",
    "to_extract_images.to_csv(TARGET_DIR+'/images_df.csv')\n",
    "images_df.to_csv(TARGET_DIR+'/full_images_df.csv')"
   ]
  }
 ],
 "metadata": {
  "kernelspec": {
   "display_name": "Python 3",
   "language": "python",
   "name": "python3"
  },
  "language_info": {
   "codemirror_mode": {
    "name": "ipython",
    "version": 3
   },
   "file_extension": ".py",
   "mimetype": "text/x-python",
   "name": "python",
   "nbconvert_exporter": "python",
   "pygments_lexer": "ipython3",
   "version": "3.5.2"
  }
 },
 "nbformat": 4,
 "nbformat_minor": 2
}
